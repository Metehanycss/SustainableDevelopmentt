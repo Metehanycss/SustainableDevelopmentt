import pandas as pd
from sklearn.preprocessing import LabelEncoder
from sklearn.preprocessing import StandardScaler
import matplotlib.pyplot as plt

# Veri setini yükle
file_path = 'Metehan Yüceses - 95210055 Parametre&Değişken.xlsx'
data = pd.read_excel(file_path)

# Veri setinin başlangıç verilerini kontrol et
print(data.head())
print(data.info())
print(data.describe())

# Eksik değerleri ve tekrar eden kayıtları kontrol et
print(data.isnull().sum())
print(data.duplicated().sum())

# Kategorik değişkeni kodla ('Ülke' sütunu)
le = LabelEncoder()
data['Ülke'] = le.fit_transform(data['Ülke'])

# Ölçeklendirme işlemi için StandardScaler kullan
scaler = StandardScaler()
numeric_columns = data.columns[2:]  # İlk iki sütun hariç tüm sütunlar
data[numeric_columns] = scaler.fit_transform(data[numeric_columns])

# Ölçeklendirme sonrası histogramları çiz
plt.figure(figsize=(12, 8))
data[numeric_columns].hist(bins=20, layout=(3,3))
plt.tight_layout()
plt.show()

# Ön işlenmiş veri setini kaydet
data.to_csv("islenmis_veri_seti.csv", index=False)

# Ön işleme sürecinin özeti
print("1. Veri seti yüklendi ve başlangıç özellikleri incelendi.")
print("2. Veri temizlendi: eksik değerler ve tekrar edenler ele alındı.")
print("3. Kategorik değişken kodlandı.")
print("4. Sayısal özellikler ölçeklendirildi.")
print("5. Ön İşleme Adımları Belgelendi.")
