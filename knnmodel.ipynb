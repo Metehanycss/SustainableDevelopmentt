# Gerekli kütüphaneleri yükle
import pandas as pd
from sklearn.model_selection import train_test_split
from sklearn.preprocessing import StandardScaler
from sklearn.neighbors import KNeighborsClassifier
from sklearn.metrics import classification_report, accuracy_score
import matplotlib.pyplot as plt

# Veri setini yükle
file_path = 'Metehan Yüceses - 95210055 Parametre&Değişken.xlsx'  # Dosya adını uygun şekilde değiştir
data = pd.read_excel(file_path)

# Sütun isimlerindeki fazlalıkları temizle
data.columns = data.columns.str.strip()

# Mezuniyet oranını kategorilere ayır
bins = [0, 80, 90, 100]
labels = ['Düşük', 'Orta', 'Yüksek']
data['Mezuniyet Kategorisi'] = pd.cut(data['Mezuniyet Oranı (%)'], bins=bins, labels=labels)

# Özellikler ve hedef değişkeni seç
X = data[['PISA Matematik Skoru', 'Öğrenci Başına Düşen Eğitim Harcaması (USD)']]
y = data['Mezuniyet Kategorisi']

# Eksik değerleri temizle
X = X.dropna()
y = y.dropna()

# Veriyi eğitim ve test setlerine ayır
X_train, X_test, y_train, y_test = train_test_split(X, y, test_size=0.2, random_state=42)

# Özellikleri ölçekle
scaler = StandardScaler()
X_train_scaled = scaler.fit_transform(X_train)
X_test_scaled = scaler.transform(X_test)

# Farklı K değerlerini dene
k_values = range(1, 11)
results = {}

for k in k_values:
    knn = KNeighborsClassifier(n_neighbors=k)
    knn.fit(X_train_scaled, y_train)
    y_pred = knn.predict(X_test_scaled)
    accuracy = accuracy_score(y_test, y_pred)
    results[k] = accuracy
    print(f"K={k}, Accuracy={accuracy:.2f}")

# En iyi K değerini bul
best_k = max(results, key=results.get)
print(f"\nEn iyi K değeri: {best_k}, Doğruluk: {results[best_k]:.2f}")

# En iyi model ile sonuçları analiz et
final_model = KNeighborsClassifier(n_neighbors=best_k)
final_model.fit(X_train_scaled, y_train)
y_final_pred = final_model.predict(X_test_scaled)

# Performans raporu
print("\nSınıflandırma Raporu:")
print(classification_report(y_test, y_final_pred))

# K değerlerine göre doğruluk oranını çiz
plt.figure(figsize=(8, 5))
plt.plot(list(results.keys()), list(results.values()), marker='o', color='b')
plt.title('K Değerlerine Göre Doğruluk Oranı', fontsize=14)
plt.xlabel('K Değeri', fontsize=12)
plt.ylabel('Doğruluk Oranı', fontsize=12)
plt.grid(True)
plt.show()
